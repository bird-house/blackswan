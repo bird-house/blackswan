{
 "cells": [
  {
   "cell_type": "markdown",
   "metadata": {},
   "source": [
    "# Execute WPS Emu <font color='green'>*Hello*</font> and <font color='green'>*Wordcount*</font>  processes with PYTHON "
   ]
  },
  {
   "cell_type": "markdown",
   "metadata": {},
   "source": [
    "To execute code in a notebook cell and move to the next, use  <font color='blue'>*Shift + Enter*</font>  combination   \n",
    "To execute the cell, and stay in it, use  <font color='blue'>*Ctrl + Enter*</font>   \n",
    "You can always stop the notebook by pressing 'interrupt kernel' button and restart it  \n",
    "All the modules will be unloaded"
   ]
  },
  {
   "cell_type": "markdown",
   "metadata": {},
   "source": [
    "#### First, we need to import <font color='red'>*owslib*</font>  client for PyWPS.   \n",
    "#### Emu is working on port <font color='green'>8094</font> "
   ]
  },
  {
   "cell_type": "code",
   "execution_count": 40,
   "metadata": {},
   "outputs": [],
   "source": [
    "from owslib.wps import WebProcessingService, monitorExecution, ComplexDataInput, printInputOutput\n",
    "\n",
    "wps = WebProcessingService(url=\"http://localhost:8094/wps\", verbose=False, skip_caps=False)\n",
    "# wps = WebProcessingService(url=\"http://wps-test.ipsl.jussieu.fr:8094/wps\", verbose=False, skip_caps=False)\n",
    "# wps = WebProcessingService(url=\"http://birdhouse.lsce.ipsl.fr:8094/wps\", verbose=False, skip_caps=False)"
   ]
  },
  {
   "cell_type": "markdown",
   "metadata": {},
   "source": [
    "#### Check, the name of the WPS Service"
   ]
  },
  {
   "cell_type": "code",
   "execution_count": 2,
   "metadata": {},
   "outputs": [
    {
     "data": {
      "text/plain": [
       "'Emu'"
      ]
     },
     "execution_count": 2,
     "metadata": {},
     "output_type": "execute_result"
    }
   ],
   "source": [
    "wps.identification.title"
   ]
  },
  {
   "cell_type": "markdown",
   "metadata": {},
   "source": [
    "#### Get the list of the processess provided by service"
   ]
  },
  {
   "cell_type": "code",
   "execution_count": 3,
   "metadata": {},
   "outputs": [
    {
     "name": "stdout",
     "output_type": "stream",
     "text": [
      "ultimate_question \t : This process gives the answer to the ultimate question of \"What is the meaning of life? \n",
      "\n",
      "sleep \t : Testing a long running process, in the sleep.This process will sleep for a given delay or 10 seconds if not a valid value. \n",
      "\n",
      "nap \t : This process will have a short nap for a given delay or 1 second if not a valid value.                This procces only supports synchronous WPS requests ...                 so, make sure the nap does not take to long. \n",
      "\n",
      "bbox \t : Give bounding box, return the same \n",
      "\n",
      "hello \t : Just says a friendly Hello.Returns a literal string output with Hello plus the inputed name. \n",
      "\n",
      "dummyprocess \t : DummyProcess to check the WPS structure \n",
      "\n",
      "wordcounter \t : Counts words in a given text. \n",
      "\n",
      "chomsky \t : Generates a random chomsky text \n",
      "\n",
      "inout \t : Testing all WPS input and output parameters. \n",
      "\n",
      "binaryoperatorfornumbers \t : Performs operation on two numbers and returns the answer.                This example process is taken from Climate4Impact. \n",
      "\n",
      "show_error \t : This process will fail intentionally with a WPS error message. \n",
      "\n",
      "multiple_outputs \t : Produces multiple files and returns a document with references to these files. \n",
      "\n",
      "esgf_demo \t : Shows how to use WPS metadata for processes using ESGF data. \n",
      "\n"
     ]
    }
   ],
   "source": [
    "for process in wps.processes:\n",
    "    print '%s \\t : %s \\n'% (process.identifier, process.abstract)"
   ]
  },
  {
   "cell_type": "markdown",
   "metadata": {},
   "source": [
    "#### Get the description of the <font color='green'>*hello*</font> process"
   ]
  },
  {
   "cell_type": "code",
   "execution_count": 4,
   "metadata": {},
   "outputs": [
    {
     "name": "stdout",
     "output_type": "stream",
     "text": [
      "Say Hello\n",
      " identifier=name, title=Your name, abstract=Please enter your name., data type=string\n",
      " Any value allowed\n",
      " Default Value: None \n",
      " minOccurs=1, maxOccurs=1\n",
      "\n",
      "\n"
     ]
    }
   ],
   "source": [
    "process = wps.describeprocess(identifier='hello')\n",
    "print process.title\n",
    "\n",
    "for input in process.dataInputs:\n",
    "    printInputOutput(input)\n",
    "    print '\\n'"
   ]
  },
  {
   "cell_type": "markdown",
   "metadata": {},
   "source": [
    "####  Run the process with the inputs provided as a list.   \n",
    "\n",
    "*If there are more that one inputs, later we will use*  \n",
    "```\n",
    "inputs = [\n",
    "    ('dataset',dataset1),\n",
    "    ('foo','bar'),\n",
    "    ]\n",
    "```\n",
    "*and call with*   \n",
    "```\n",
    "execute = wps.execute(identifier=\"someprocess\", inputs=inputs)\n",
    "```"
   ]
  },
  {
   "cell_type": "markdown",
   "metadata": {},
   "source": [
    "#### Run the wps process"
   ]
  },
  {
   "cell_type": "code",
   "execution_count": 41,
   "metadata": {},
   "outputs": [],
   "source": [
    "execute = wps.execute(identifier=\"hello\", inputs=[(\"name\",\"MyPrecious\")])\n",
    "\n",
    "monitorExecution(execute, sleepSecs=1)"
   ]
  },
  {
   "cell_type": "markdown",
   "metadata": {},
   "source": [
    "##### In python, you may check available attribute of the object using <font color='green'>dir()</font> function"
   ]
  },
  {
   "cell_type": "code",
   "execution_count": 42,
   "metadata": {},
   "outputs": [
    {
     "data": {
      "text/plain": [
       "['__doc__',\n",
       " '__init__',\n",
       " '__module__',\n",
       " '_add_output',\n",
       " '_parseExceptionReport',\n",
       " '_parseExecuteResponse',\n",
       " 'buildRequest',\n",
       " 'checkStatus',\n",
       " 'creationTime',\n",
       " 'dataInputs',\n",
       " 'errors',\n",
       " 'getOutput',\n",
       " 'getStatus',\n",
       " 'headers',\n",
       " 'isComplete',\n",
       " 'isNotComplete',\n",
       " 'isSucceded',\n",
       " 'parseResponse',\n",
       " 'password',\n",
       " 'percentCompleted',\n",
       " 'process',\n",
       " 'processOutputs',\n",
       " 'request',\n",
       " 'response',\n",
       " 'serviceInstance',\n",
       " 'status',\n",
       " 'statusLocation',\n",
       " 'statusMessage',\n",
       " 'submitRequest',\n",
       " 'url',\n",
       " 'username',\n",
       " 'verbose',\n",
       " 'verify',\n",
       " 'version']"
      ]
     },
     "execution_count": 42,
     "metadata": {},
     "output_type": "execute_result"
    }
   ],
   "source": [
    "dir(execute)"
   ]
  },
  {
   "cell_type": "markdown",
   "metadata": {},
   "source": [
    "#### So you can check the status of the process, with <font color='green'>*getStatus()*</font> method"
   ]
  },
  {
   "cell_type": "code",
   "execution_count": 43,
   "metadata": {},
   "outputs": [
    {
     "name": "stdout",
     "output_type": "stream",
     "text": [
      "ProcessSucceeded\n"
     ]
    }
   ],
   "source": [
    "print execute.getStatus()"
   ]
  },
  {
   "cell_type": "markdown",
   "metadata": {},
   "source": [
    "#### In the list you see <font color='green'>*response*</font> atribute, givin you full *xml* response, or <font color='green'>*statusLocation*</font> with path to xml file"
   ]
  },
  {
   "cell_type": "code",
   "execution_count": 45,
   "metadata": {},
   "outputs": [
    {
     "name": "stdout",
     "output_type": "stream",
     "text": [
      "http://localhost:8090/wpsoutputs/emu/bf5f8f26-26a7-11e8-b582-d89ef3118394.xml \n",
      "\n",
      "<wps:ExecuteResponse xmlns:gml=\"http://www.opengis.net/gml\" xmlns:ows=\"http://www.opengis.net/ows/1.1\" xmlns:wps=\"http://www.opengis.net/wps/1.0.0\" xmlns:xlink=\"http://www.w3.org/1999/xlink\" xmlns:xsi=\"http://www.w3.org/2001/XMLSchema-instance\" xsi:schemaLocation=\"http://www.opengis.net/wps/1.0.0 http://schemas.opengis.net/wps/1.0.0/wpsExecute_response.xsd\" service=\"WPS\" version=\"1.0.0\" xml:lang=\"en-US\" serviceInstance=\"http://localhost:8094/wps?service=WPS&amp;request=GetCapabilities\" statusLocation=\"http://localhost:8090/wpsoutputs/emu/bf5f8f26-26a7-11e8-b582-d89ef3118394.xml\">\n",
      "  <wps:Process wps:processVersion=\"1.5\">\n",
      "    <ows:Identifier>hello</ows:Identifier>\n",
      "    <ows:Title>Say Hello</ows:Title>\n",
      "    <ows:Abstract>Just says a friendly Hello.Returns a literal string output with Hello plus the inputed name.</ows:Abstract>\n",
      "  </wps:Process>\n",
      "  <wps:Status creationTime=\"2018-03-13T11:17:35Z\">\n",
      "    <wps:ProcessSucceeded>PyWPS Process Say Hello finished</wps:ProcessSucceeded>\n",
      "  </wps:Status>\n",
      "  <wps:ProcessOutputs>\n",
      "    <wps:Output>\n",
      "      <ows:Identifier>output</ows:Identifier>\n",
      "      <ows:Title>Output response</ows:Title>\n",
      "      <ows:Abstract>A friendly Hello from us.</ows:Abstract>\n",
      "      <ows:Keywords>\n",
      "        <ows:Keyword>output</ows:Keyword>\n",
      "        <ows:Keyword>result</ows:Keyword>\n",
      "        <ows:Keyword>response</ows:Keyword>\n",
      "      </ows:Keywords>\n",
      "      <wps:Data>\n",
      "        <wps:LiteralData dataType=\"urn:ogc:def:dataType:OGC:1.1:string\" uom=\"urn:ogc:def:uom:OGC:1.0:unity\">Hello MyPrecious</wps:LiteralData>\n",
      "      </wps:Data>\n",
      "    </wps:Output>\n",
      "  </wps:ProcessOutputs>\n",
      "</wps:ExecuteResponse>\n"
     ]
    }
   ],
   "source": [
    "rxml = execute.statusLocation\n",
    "print rxml, '\\n'\n",
    "resp = execute.response\n",
    "print resp"
   ]
  },
  {
   "cell_type": "markdown",
   "metadata": {},
   "source": [
    "#### The same way, check the available calls for iterable <font color='green'>*execute.processOutputs*</font> "
   ]
  },
  {
   "cell_type": "code",
   "execution_count": 46,
   "metadata": {},
   "outputs": [
    {
     "name": "stdout",
     "output_type": "stream",
     "text": [
      "['__class__', '__delattr__', '__dict__', '__doc__', '__format__', '__getattribute__', '__hash__', '__init__', '__module__', '__new__', '__reduce__', '__reduce_ex__', '__repr__', '__setattr__', '__sizeof__', '__str__', '__subclasshook__', '__weakref__', '_parseBoundingBoxData', '_parseComplexData', '_parseData', '_parseLiteralData', 'abstract', 'allowedValues', 'anyValue', 'data', 'dataType', 'defaultValue', 'fileName', 'filePath', 'identifier', 'metadata', 'mimeType', 'reference', 'retrieveData', 'supportedValues', 'title', 'writeToDisk']\n"
     ]
    }
   ],
   "source": [
    "for o in execute.processOutputs:\n",
    "    print dir(o)"
   ]
  },
  {
   "cell_type": "markdown",
   "metadata": {},
   "source": [
    "#### We need <font color='green'>*data*</font> or <font color='green'>*reference*</font> attributes"
   ]
  },
  {
   "cell_type": "code",
   "execution_count": 67,
   "metadata": {},
   "outputs": [
    {
     "name": "stdout",
     "output_type": "stream",
     "text": [
      "Output Data: ['Hello MyPrecious']\n",
      "<type 'list'>\n",
      "Reference: None\n"
     ]
    }
   ],
   "source": [
    "for o in execute.processOutputs:\n",
    "    print 'Output Data:', o.data\n",
    "    print type(o.data)\n",
    "    print 'Reference:', o.reference"
   ]
  },
  {
   "cell_type": "markdown",
   "metadata": {},
   "source": [
    "##### Note, that ouput <font color='green'>*data*</font>  object, as well as <font color='green'>*execute.processOutputs*</font>  has iterable python type *list*.   \n",
    "You may access it's 'i'th *str* type element, starting from 0, with *python_list_object[i]* addressing"
   ]
  },
  {
   "cell_type": "code",
   "execution_count": 70,
   "metadata": {},
   "outputs": [
    {
     "name": "stdout",
     "output_type": "stream",
     "text": [
      "Output number in list: 0\n",
      "Output Data: ['Hello MyPrecious']\n",
      "Output Data element: Hello MyPrecious\n",
      "<type 'str'>\n",
      "\n",
      "\n",
      "['Hello MyPrecious']\n",
      "Hello MyPrecious\n"
     ]
    }
   ],
   "source": [
    "for i, o in enumerate(execute.processOutputs):\n",
    "    print 'Output number in list:', i\n",
    "    print 'Output Data:', o.data\n",
    "    print 'Output Data element:', o.data[i] #i element of the list\n",
    "    print type(o.data[i])\n",
    "\n",
    "print '\\n'\n",
    "\n",
    "# Or, if we have only one element, like here:\n",
    "print execute.processOutputs[0].data\n",
    "print execute.processOutputs[0].data[0]"
   ]
  },
  {
   "cell_type": "markdown",
   "metadata": {},
   "source": [
    "#### Usually we operate with <font color='green'>*execute.processOutputs[i].reference*</font>  to get the paths for the resulting files of the process.  \n",
    "#### <font color='green'>*Hello*</font> process doesn't produce any output files as reference, so it has <font color='green'>*None*</font>  value"
   ]
  },
  {
   "cell_type": "markdown",
   "metadata": {},
   "source": [
    "## Now, lets run <font color='green'>*Wordcounter*</font> process with literal input and reference input"
   ]
  },
  {
   "cell_type": "code",
   "execution_count": 71,
   "metadata": {},
   "outputs": [
    {
     "name": "stdout",
     "output_type": "stream",
     "text": [
      "Word Counter\n",
      " identifier=text, title=Text document, abstract=URL pointing to a text document, for example \"Alice in Wonderland\": http://www.gutenberg.org/cache/epub/19033/pg19033.txt, data type=ComplexData\n",
      " Supported Value: mimeType=text/plain, encoding=None, schema=None\n",
      " Default Value: mimeType=text/plain, encoding=None, schema=None \n",
      " minOccurs=1, maxOccurs=1\n",
      "\n",
      "\n"
     ]
    }
   ],
   "source": [
    "processid = 'wordcounter'\n",
    "\n",
    "process = wps.describeprocess(identifier=processid)\n",
    "print process.title\n",
    "\n",
    "for input in process.dataInputs:\n",
    "    printInputOutput(input)\n",
    "    print '\\n'"
   ]
  },
  {
   "cell_type": "markdown",
   "metadata": {},
   "source": [
    "#### Use <font color='green'>*ComplexDataInput*</font>  with a URL reference to a document"
   ]
  },
  {
   "cell_type": "code",
   "execution_count": 72,
   "metadata": {},
   "outputs": [],
   "source": [
    "# define the document to count words in it\n",
    "textdoc = ComplexDataInput(\"http://www.gutenberg.org/files/28885/28885-h/28885-h.htm\")   # alice in wonderland\n",
    "\n",
    "# prepare inputs for identifier 'text'\n",
    "inputs = [(\"text\", textdoc)]"
   ]
  },
  {
   "cell_type": "code",
   "execution_count": 73,
   "metadata": {},
   "outputs": [
    {
     "name": "stdout",
     "output_type": "stream",
     "text": [
      "PyWPS Process Word Counter finished\n"
     ]
    }
   ],
   "source": [
    "# Run the process with inputs provided\n",
    "execution = wps.execute(processid, inputs=inputs)\n",
    "monitorExecution(execution)\n",
    "\n",
    "# show status\n",
    "print(execution.statusMessage)"
   ]
  },
  {
   "cell_type": "code",
   "execution_count": 74,
   "metadata": {},
   "outputs": [
    {
     "name": "stdout",
     "output_type": "stream",
     "text": [
      "Click it!\n",
      "reference = http://localhost:8090/wpsoutputs/emu/17fe9e5e-26aa-11e8-b582-d89ef3118394/out.txt\n"
     ]
    }
   ],
   "source": [
    "# Get the output as a reference\n",
    "for output in execution.processOutputs:\n",
    "    print ('Click it!')\n",
    "    print ('reference = %s' % (output.reference))"
   ]
  },
  {
   "cell_type": "markdown",
   "metadata": {},
   "source": [
    "#### Use <font color='green'>*ComplexDataInput*</font>  with a direct content"
   ]
  },
  {
   "cell_type": "code",
   "execution_count": 75,
   "metadata": {},
   "outputs": [],
   "source": [
    "textdoc = ComplexDataInput(\"ALICE was beginning to get very tired ...\") # alice in wonderland\n",
    "\n",
    "# prepare inputs for identifier 'text'\n",
    "inputs = [(\"text\", textdoc)]"
   ]
  },
  {
   "cell_type": "code",
   "execution_count": 76,
   "metadata": {},
   "outputs": [
    {
     "name": "stdout",
     "output_type": "stream",
     "text": [
      "PyWPS Process Word Counter finished\n"
     ]
    }
   ],
   "source": [
    "# Run the process with inputs provided\n",
    "execution = wps.execute(processid, inputs=inputs)\n",
    "monitorExecution(execution)\n",
    "\n",
    "# show status\n",
    "print(execution.statusMessage)"
   ]
  },
  {
   "cell_type": "code",
   "execution_count": 77,
   "metadata": {},
   "outputs": [
    {
     "name": "stdout",
     "output_type": "stream",
     "text": [
      "Click it!\n",
      "reference = http://localhost:8090/wpsoutputs/emu/20795d62-26aa-11e8-b582-d89ef3118394/out.txt\n"
     ]
    }
   ],
   "source": [
    "# Get the output as a reference\n",
    "for output in execution.processOutputs:\n",
    "    print ('Click it!')\n",
    "    print ('reference = %s' % (output.reference))"
   ]
  },
  {
   "cell_type": "markdown",
   "metadata": {},
   "source": [
    " ### Now we are ready to move to more complicated things"
   ]
  }
 ],
 "metadata": {
  "kernelspec": {
   "display_name": "Python 2",
   "language": "python",
   "name": "python2"
  },
  "language_info": {
   "codemirror_mode": {
    "name": "ipython",
    "version": 2
   },
   "file_extension": ".py",
   "mimetype": "text/x-python",
   "name": "python",
   "nbconvert_exporter": "python",
   "pygments_lexer": "ipython2",
   "version": "2.7.14"
  }
 },
 "nbformat": 4,
 "nbformat_minor": 2
}
