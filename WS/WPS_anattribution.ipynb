{
 "cells": [
  {
   "cell_type": "markdown",
   "metadata": {},
   "source": [
    "# WPS call for event attribution using analogues\n",
    "\n",
    "The objective is to assess the role of atmospheric circulation in the observed temperature anomalie in january 2018.\n",
    "\n",
    "With the method of analogues, we will simulate others possible realisations of temperature anomalies in january 2018 by taking analogues in two differents periods (P1: 1948-1980 and P2: 1981-2016). \n",
    "\n",
    "Those two simulated distributions can be used to have an estimation of the probabilities of having higher temperature than whats was observed in january 2018 conditionally to the observed atmospheric circulation in the past and present climate (P1 vs P2).\n",
    "\n",
    "If the distribution of the simulated temperatures are significantly different between the two periods, it would suggest that another factor outside of atmospheric circulation is needed to explain the shift in the distribution of temperatures.\n",
    "\n"
   ]
  },
  {
   "cell_type": "markdown",
   "metadata": {},
   "source": [
    "### Ex 1. Analogues Computation\n",
    "\n",
    "Use the Blackswan process \"analogs_reanalyse\" to find analogues of circulation over the North Atlantic (-80W,30E,30N,70N)for each day of January 2018 in the period P1 (1948-1980) and the period P2 (1981-2016).\n"
   ]
  },
  {
   "cell_type": "code",
   "execution_count": 1,
   "metadata": {},
   "outputs": [],
   "source": [
    "##############################\n",
    "# load the required libraries \n",
    "#############################\n",
    "\n",
    "# from owslib.wps import WebProcessingService, monitorExecution, printInputOutput\n",
    "from owslib.wps import WebProcessingService, monitorExecution, printInputOutput, ComplexDataInput\n",
    "\n",
    "\n",
    "from os import system\n",
    "import time"
   ]
  },
  {
   "cell_type": "code",
   "execution_count": 2,
   "metadata": {},
   "outputs": [],
   "source": [
    "#################################################\n",
    "# connect to the compute provider hosting the WPS\n",
    "#################################################\n",
    "\n",
    "#wps_url = \"http://birdhouse.lsce.ipsl.fr:8096/wps\"\n",
    "wps_url = \"http://localhost:8096/wps\"\n",
    "wps = WebProcessingService(url=wps_url, verbose=False)"
   ]
  },
  {
   "cell_type": "code",
   "execution_count": 3,
   "metadata": {},
   "outputs": [
    {
     "name": "stdout",
     "output_type": "stream",
     "text": [
      "Blackswan 1.1_dev:\n",
      "#############\n",
      "weatherregimes_reanalyse : \t k-mean cluster analyse of the pressure patterns. Clusters are equivalent to weather regimes\n",
      "weatherregimes_model : \t k-mean cluster analyse of the pressure patterns. Clusters are equivalent to weather regimes\n",
      "analogs_reanalyse : \t Search for days with analogue pressure pattern for reanalyses data sets\n",
      "analogs_model : \t Search for days with analogue pressure pattern for models data sets\n",
      "analogs_compare : \t Search for days with analogue pressure pattern for reanalyses data sets\n",
      "analogs_viewer : \t Visualisation of text output of analogue process\n",
      "analogs_cta : \t Search for days with analogue pressure pattern for reanalyses data sets\n",
      "simple_plot : \t Returns a nice and simple plot.\n"
     ]
    }
   ],
   "source": [
    "##########################################\n",
    "# print some information about the service\n",
    "##########################################\n",
    "\n",
    "print wps.identification.title + ':'\n",
    "print '#############'\n",
    "for process in wps.processes:\n",
    "    print '%s : \\t %s' % (process.identifier, process.abstract)"
   ]
  },
  {
   "cell_type": "code",
   "execution_count": 4,
   "metadata": {},
   "outputs": [
    {
     "name": "stdout",
     "output_type": "stream",
     "text": [
      " identifier=reanalyses, title=Reanalyses Data, abstract=Choose a reanalyses dataset for comparison, data type=string\n",
      " Allowed Value: NCEP_slp\n",
      " Allowed Value: NCEP_precip\n",
      " Allowed Value: NCEP_z1000\n",
      " Allowed Value: NCEP_z925\n",
      " Allowed Value: NCEP_z850\n",
      " Allowed Value: NCEP_z700\n",
      " Allowed Value: NCEP_z600\n",
      " Allowed Value: NCEP_z500\n",
      " Allowed Value: NCEP_z400\n",
      " Allowed Value: NCEP_z300\n",
      " Allowed Value: NCEP_z250\n",
      " Allowed Value: NCEP_z200\n",
      " Allowed Value: NCEP_z150\n",
      " Allowed Value: NCEP_z100\n",
      " Allowed Value: NCEP_z70\n",
      " Allowed Value: NCEP_z50\n",
      " Allowed Value: NCEP_z30\n",
      " Allowed Value: NCEP_z20\n",
      " Allowed Value: NCEP_z10\n",
      " Allowed Value: 20CRV2_prmsl\n",
      " Allowed Value: 20CRV2_z1000\n",
      " Allowed Value: 20CRV2_z950\n",
      " Allowed Value: 20CRV2_z900\n",
      " Allowed Value: 20CRV2_z850\n",
      " Allowed Value: 20CRV2_z800\n",
      " Allowed Value: 20CRV2_z750\n",
      " Allowed Value: 20CRV2_z700\n",
      " Allowed Value: 20CRV2_z650\n",
      " Allowed Value: 20CRV2_z600\n",
      " Allowed Value: 20CRV2_z550\n",
      " Allowed Value: 20CRV2_z500\n",
      " Allowed Value: 20CRV2_z450\n",
      " Allowed Value: 20CRV2_z400\n",
      " Allowed Value: 20CRV2_z350\n",
      " Allowed Value: 20CRV2_z300\n",
      " Allowed Value: 20CRV2_z250\n",
      " Allowed Value: 20CRV2_z200\n",
      " Allowed Value: 20CRV2_z150\n",
      " Allowed Value: 20CRV2_z100\n",
      " Allowed Value: 20CRV2_z70\n",
      " Allowed Value: 20CRV2_z50\n",
      " Allowed Value: 20CRV2_z30\n",
      " Allowed Value: 20CRV2_z20\n",
      " Allowed Value: 20CRV2_z10\n",
      " Allowed Value: 20CRV2c_prmsl\n",
      " Allowed Value: 20CRV2c_z1000\n",
      " Allowed Value: 20CRV2c_z950\n",
      " Allowed Value: 20CRV2c_z900\n",
      " Allowed Value: 20CRV2c_z850\n",
      " Allowed Value: 20CRV2c_z800\n",
      " Allowed Value: 20CRV2c_z750\n",
      " Allowed Value: 20CRV2c_z700\n",
      " Allowed Value: 20CRV2c_z650\n",
      " Allowed Value: 20CRV2c_z600\n",
      " Allowed Value: 20CRV2c_z550\n",
      " Allowed Value: 20CRV2c_z500\n",
      " Allowed Value: 20CRV2c_z450\n",
      " Allowed Value: 20CRV2c_z400\n",
      " Allowed Value: 20CRV2c_z350\n",
      " Allowed Value: 20CRV2c_z300\n",
      " Allowed Value: 20CRV2c_z250\n",
      " Allowed Value: 20CRV2c_z200\n",
      " Allowed Value: 20CRV2c_z150\n",
      " Allowed Value: 20CRV2c_z100\n",
      " Allowed Value: 20CRV2c_z70\n",
      " Allowed Value: 20CRV2c_z50\n",
      " Allowed Value: 20CRV2c_z30\n",
      " Allowed Value: 20CRV2c_z20\n",
      " Allowed Value: 20CRV2c_z10\n",
      " Default Value: NCEP_slp \n",
      " minOccurs=1, maxOccurs=1\n",
      "\n",
      "\n",
      " identifier=timeres, title=Reanalyses temporal resolution, abstract=Temporal resolution of the reanalyses (only for 20CRV2), data type=string\n",
      " Allowed Value: day\n",
      " Allowed Value: 6h\n",
      " Default Value: day \n",
      " minOccurs=0, maxOccurs=1\n",
      "\n",
      "\n",
      " identifier=BBox, title=Bounding Box, abstract=Enter a bbox: min_lon, max_lon, min_lat, max_lat. min_lon=Western longitude, max_lon=Eastern longitude, min_lat=Southern or northern latitude, max_lat=Northern or southern latitude. For example: -80,50,20,70, data type=string\n",
      " Any value allowed\n",
      " Default Value: -20,40,30,70 \n",
      " minOccurs=0, maxOccurs=1\n",
      "\n",
      "\n",
      " identifier=dateSt, title=Start date of analysis period, abstract=First day of the period to be analysed, data type=date\n",
      " Any value allowed\n",
      " Default Value: 2018-01-01 \n",
      " minOccurs=0, maxOccurs=1\n",
      "\n",
      "\n",
      " identifier=dateEn, title=End date of analysis period, abstract=Last day of the period to be analysed, data type=date\n",
      " Any value allowed\n",
      " Default Value: 2018-01-10 \n",
      " minOccurs=0, maxOccurs=1\n",
      "\n",
      "\n",
      " identifier=refSt, title=Start date of reference period, abstract=First day of the period where analogues being picked, data type=date\n",
      " Any value allowed\n",
      " Default Value: 1948-01-01 \n",
      " minOccurs=0, maxOccurs=1\n",
      "\n",
      "\n",
      " identifier=refEn, title=End date of reference period, abstract=Last day of the period where analogues being picked, data type=date\n",
      " Any value allowed\n",
      " Default Value: 2016-12-31 \n",
      " minOccurs=0, maxOccurs=1\n",
      "\n",
      "\n",
      " identifier=detrend, title=Detrend, abstract=Remove long-term trend beforehand, data type=string\n",
      " Allowed Value: None\n",
      " Allowed Value: UVSpline\n",
      " Default Value: None \n",
      " minOccurs=0, maxOccurs=1\n",
      "\n",
      "\n",
      " identifier=normalize, title=normalization, abstract=Normalize by subtraction of annual cycle, data type=string\n",
      " Allowed Value: None\n",
      " Allowed Value: base\n",
      " Allowed Value: sim\n",
      " Allowed Value: own\n",
      " Default Value: None \n",
      " minOccurs=0, maxOccurs=1\n",
      "\n",
      "\n",
      " identifier=seasonwin, title=Seasonal window, abstract=Number of days before and after the date to be analysed, data type=integer\n",
      " Any value allowed\n",
      " Default Value: 30 \n",
      " minOccurs=0, maxOccurs=1\n",
      "\n",
      "\n",
      " identifier=nanalog, title=Nr of analogues, abstract=Number of analogues to be detected, data type=integer\n",
      " Any value allowed\n",
      " Default Value: 20 \n",
      " minOccurs=0, maxOccurs=1\n",
      "\n",
      "\n",
      " identifier=dist, title=Distance, abstract=Distance function to define analogues, data type=string\n",
      " Allowed Value: euclidean\n",
      " Allowed Value: mahalanobis\n",
      " Allowed Value: cosine\n",
      " Default Value: euclidean \n",
      " minOccurs=0, maxOccurs=1\n",
      "\n",
      "\n",
      " identifier=outformat, title=output file format, abstract=Choose the format for the analogue output file, data type=string\n",
      " Allowed Value: ascii\n",
      " Allowed Value: netCDF4\n",
      " Default Value: ascii \n",
      " minOccurs=0, maxOccurs=1\n",
      "\n",
      "\n",
      " identifier=timewin, title=Time window, abstract=Number of days following the analogue day the distance will be averaged, data type=integer\n",
      " Any value allowed\n",
      " Default Value: 1 \n",
      " minOccurs=0, maxOccurs=1\n",
      "\n",
      "\n",
      " identifier=plot, title=Plot, abstract=Plot simulations and Mean/Best/Last analogs?, data type=string\n",
      " Allowed Value: Yes\n",
      " Allowed Value: No\n",
      " Default Value: No \n",
      " minOccurs=0, maxOccurs=1\n",
      "\n",
      "\n"
     ]
    }
   ],
   "source": [
    "#################################################\n",
    "# print some information about a specific process\n",
    "#################################################\n",
    "\n",
    "# to recieve informations uncomment the follwing lines\n",
    "\n",
    "p = wps.describeprocess(identifier='analogs_reanalyse')\n",
    "for input in p.dataInputs:\n",
    "    printInputOutput(input)\n",
    "    print '\\n'"
   ]
  },
  {
   "cell_type": "code",
   "execution_count": 5,
   "metadata": {},
   "outputs": [],
   "source": [
    "# get information about the call command:\n",
    "wps.execute?"
   ]
  },
  {
   "cell_type": "code",
   "execution_count": 16,
   "metadata": {},
   "outputs": [
    {
     "name": "stdout",
     "output_type": "stream",
     "text": [
      "57.8984899521 seconds\n",
      "ProcessSucceeded\n"
     ]
    }
   ],
   "source": [
    "#####################\n",
    "# execute the process\n",
    "#####################\n",
    "\n",
    "# call asyncon with sleepSecs\n",
    "\n",
    "start_time = time.time()\n",
    "\n",
    "anaxecute0 = wps.execute(\n",
    "    identifier=\"analogs_reanalyse\", \n",
    "    inputs=[\n",
    "        #(\"dist\",'euclidean'),\n",
    "        (\"BBox\",\"-80,30,30,70\"),\n",
    "        (\"dateSt\", \"2018-01-01\"),\n",
    "        (\"dateEn\", \"2018-01-31\"),\n",
    "        (\"refSt\", \"1948-01-01\"),\n",
    "        (\"refEn\", \"2016-12-31\"),\n",
    "        #(\"plot\", \"Yes\")\n",
    "        (\"plot\", \"No\")\n",
    "    ], async=True)\n",
    "\n",
    "monitorExecution(anaxecute0, sleepSecs=1)\n",
    "\n",
    "print time.time() - start_time, \"seconds\"\n",
    "\n",
    "print anaxecute0.getStatus()\n",
    "\n"
   ]
  },
  {
   "cell_type": "code",
   "execution_count": 7,
   "metadata": {},
   "outputs": [
    {
     "name": "stdout",
     "output_type": "stream",
     "text": [
      "http://localhost:8090/wpsoutputs/blackswan/fd0c7502-25ce-11e8-b582-d89ef3118394/dummy_sim.nc\n",
      "http://localhost:8090/wpsoutputs/blackswan/fd0c7502-25ce-11e8-b582-d89ef3118394/dummy_base.nc\n",
      "http://localhost:8090/wpsoutputs/blackswan/fd0c7502-25ce-11e8-b582-d89ef3118394/sim_slp_2018-01-01_2018-01-31_-80.0_30.0_30.0_70.0.nc\n",
      "http://localhost:8090/wpsoutputs/blackswan/fd0c7502-25ce-11e8-b582-d89ef3118394/base_slp_1948-01-01_2016-12-31_-80.0_30.0_30.0_70.0.nc\n",
      "http://localhost:8090/wpsoutputs/blackswan/fd0c7502-25ce-11e8-b582-d89ef3118394/analogviewer.html\n",
      "http://localhost:8090/wpsoutputs/blackswan/fd0c7502-25ce-11e8-b582-d89ef3118394/config.txt\n",
      "http://localhost:8090/wpsoutputs/blackswan/fd0c7502-25ce-11e8-b582-d89ef3118394/output.txt\n",
      "http://localhost:8090/wpsoutputs/blackswan/fd0c7502-25ce-11e8-b582-d89ef3118394/dummy_plot.pdf\n",
      "http://localhost:8090/wpsoutputs/blackswan/fd0c7502-25ce-11e8-b582-d89ef3118394/log.txt\n",
      "http://localhost:8090/wpsoutputs/blackswan/fd0c7502-25ce-11e8-b582-d89ef3118394/modified-analogfile.tsv\n"
     ]
    }
   ],
   "source": [
    "for o in anaxecute0.processOutputs:\n",
    "    print o.reference\n",
    "    \n"
   ]
  },
  {
   "cell_type": "code",
   "execution_count": 8,
   "metadata": {},
   "outputs": [
    {
     "name": "stdout",
     "output_type": "stream",
     "text": [
      "57.9753110409 seconds\n",
      "ProcessSucceeded\n"
     ]
    }
   ],
   "source": [
    "#####################\n",
    "# execute the process\n",
    "#####################\n",
    "\n",
    "# call asyncon with sleepSecs\n",
    "\n",
    "start_time = time.time()\n",
    "\n",
    "anaxecute1 = wps.execute(\n",
    "    identifier=\"analogs_reanalyse\", \n",
    "    inputs=[\n",
    "        (\"dist\",'euclidean'),\n",
    "        (\"BBox\",\"-80,30,30,70\"),\n",
    "        (\"dateSt\", \"2018-01-01\"),\n",
    "        (\"dateEn\", \"2018-01-31\"),\n",
    "        (\"refSt\", \"1948-01-01\"),\n",
    "        (\"refEn\", \"1980-12-31\"),\n",
    "        #(\"plot\", \"Yes\")\n",
    "        (\"plot\", \"No\")\n",
    "    ], async=True)\n",
    "\n",
    "monitorExecution(anaxecute1, sleepSecs=1)\n",
    "\n",
    "print time.time() - start_time, \"seconds\"\n",
    "\n",
    "print anaxecute1.getStatus()\n",
    "\n"
   ]
  },
  {
   "cell_type": "code",
   "execution_count": 9,
   "metadata": {},
   "outputs": [
    {
     "name": "stdout",
     "output_type": "stream",
     "text": [
      "CPU times: user 0 ns, sys: 0 ns, total: 0 ns\n",
      "Wall time: 6.91 µs\n",
      "36.9520351887 seconds\n",
      "ProcessSucceeded\n"
     ]
    }
   ],
   "source": [
    "%time\n",
    "#####################\n",
    "# execute the process\n",
    "#####################\n",
    "\n",
    "# call asyncon with sleepSecs\n",
    "\n",
    "start_time = time.time()\n",
    "\n",
    "anaxecute2 = wps.execute(\n",
    "    identifier=\"analogs_reanalyse\", \n",
    "    inputs=[\n",
    "        (\"dist\",'euclidean'),\n",
    "        (\"BBox\",\"-80,30,30,70\"),\n",
    "        (\"dateSt\", \"2018-01-01\"),\n",
    "        (\"dateEn\", \"2018-01-31\"),\n",
    "        (\"refSt\", \"1981-01-01\"),\n",
    "        (\"refEn\", \"2016-12-31\"),\n",
    "        #(\"plot\", \"Yes\")\n",
    "        (\"plot\", \"No\")\n",
    "    ], async=True)\n",
    "\n",
    "monitorExecution(anaxecute2, sleepSecs=1)\n",
    "\n",
    "print time.time() - start_time, \"seconds\"\n",
    "\n",
    "print anaxecute2.getStatus()\n",
    "\n"
   ]
  },
  {
   "cell_type": "markdown",
   "metadata": {},
   "source": [
    "### Ex. 2 Attribution with analogues\n",
    "\n",
    "1. Use the function analogs_generator available below to simulate other possible mean temperatures for January 2018 using analogues found in the first period and analogues found in the second period.\n",
    "\n",
    "2. Compare the distributions of temperature anomalies obtained in the two period by plotting boxplots or histograms.\n",
    "\n",
    "3. Estimate the probabilities of having a temperature higher than what was observed in January 2008 for both periods.\n",
    "\n",
    "    The mean daily temperature over Europe from NCEP reamalysis are available in the file : \n",
    "https://files.lsce.ipsl.fr/public.php?service=files&t=65264bb8ea2a08d55c198b73a43366c8&download\n",
    "    and the anomalies:\n",
    "https://files.lsce.ipsl.fr/public.php?service=files&t=400f0ef2c93929741d7a0011deb0954f\n",
    "\n",
    "\n",
    "\n",
    "\n"
   ]
  },
  {
   "cell_type": "code",
   "execution_count": 10,
   "metadata": {
    "scrolled": true
   },
   "outputs": [
    {
     "name": "stdout",
     "output_type": "stream",
     "text": [
      "http://localhost:8090/wpsoutputs/blackswan/2196939e-25cf-11e8-b582-d89ef3118394/output.txt\n",
      "http://localhost:8090/wpsoutputs/blackswan/44274e12-25cf-11e8-b582-d89ef3118394/output.txt\n",
      "https://files.lsce.ipsl.fr/public.php?service=files&t=65264bb8ea2a08d55c198b73a43366c8&download\n",
      "https://files.lsce.ipsl.fr/public.php?service=files&t=400f0ef2c93929741d7a0011deb0954f&download\n"
     ]
    }
   ],
   "source": [
    "ana_p1_file = anaxecute1.processOutputs[6].reference\n",
    "ana_p2_file = anaxecute2.processOutputs[6].reference\n",
    "tas_file = \"https://files.lsce.ipsl.fr/public.php?service=files&t=65264bb8ea2a08d55c198b73a43366c8&download\"\n",
    "ano_file = \"https://files.lsce.ipsl.fr/public.php?service=files&t=400f0ef2c93929741d7a0011deb0954f&download\"\n",
    "print ana_p1_file\n",
    "print ana_p2_file\n",
    "print tas_file\n",
    "print ano_file"
   ]
  },
  {
   "cell_type": "code",
   "execution_count": 11,
   "metadata": {},
   "outputs": [],
   "source": [
    "import pandas\n",
    "import random\n",
    "import numpy as np\n",
    "\n",
    "def analogs_generator(anafile, yfile, nsim = 20):\n",
    "    # Simulates nsim values of the variable y using analogues for all the dates present in the file anafile\n",
    "    # anafile path to a file with the results of the analogues\n",
    "    # yfile path to the file containing the data. The file should have two columns: \n",
    "    # - the first with the date with the following for format yyyymmdd\n",
    "    # - the second with the variable of interest y, columns are separated by spaces and are supposed to have headers\n",
    "    # nsim the number of simulations of the variablle y to generate with the analogues\n",
    "    def weight_analogues(date):\n",
    "        dist = disttable.loc[[date], :].transpose()\n",
    "        date = anatable.loc[[date], :].transpose()\n",
    "        weights = pandas.concat([date.reset_index(drop=True), dist.reset_index(drop=True)], axis = 1)\n",
    "        weights.columns = ['date', 'dist']\n",
    "        weights = weights.set_index('date')\n",
    "        return weights\n",
    "    def select_y_analogues(date):\n",
    "        bidx = ytable.index.isin(anatable.loc[date, :])\n",
    "        return ytable.iloc[bidx, 0] \n",
    "    def generate_cond_ymean(date, nsim = 20):\n",
    "        weights = weight_analogues(date)\n",
    "        ys = select_y_analogues(date)\n",
    "        dat = pandas.concat([ys, weights], axis = 1, join = \"inner\")\n",
    "        weights = np.random.multinomial(nsim, dat.dist / sum(dat.dist))\n",
    "        return random.sample(np.repeat(dat.iloc[:, 0], weights), nsim)\n",
    "    ytable = pandas.read_table(yfile, sep = \" \", skipinitialspace = True)\n",
    "    anatable = pandas.read_table(anafile, sep = \" \", skipinitialspace = True)\n",
    "    nanalogs = len([s for s in anatable.columns if \"dis\" in s])\n",
    "    disttable = anatable.iloc[:, [0] + range(nanalogs + 1, 2 * nanalogs + 1)].copy()\n",
    "    cortable = anatable.iloc[:, [0] + range(2 * nanalogs + 1, 3 * nanalogs + 1)].copy()\n",
    "    anatable = anatable.iloc[:, 0:(nanalogs + 1)].copy()\n",
    "    ytable = ytable.set_index('date')\n",
    "    disttable = disttable.set_index('date')\n",
    "    cortable = cortable.set_index('date')\n",
    "    anatable = anatable.set_index('date')\n",
    "    condys = map(generate_cond_ymean, anatable.index, np.repeat(nsim, len(anatable.index)))\n",
    "    condys = pandas.DataFrame(condys)\n",
    "    condys = condys.transpose()\n",
    "    #condys = [x.reset_index(drop=True) for x in condys]\n",
    "    #condys = pandas.concat(condys, axis = 1)\n",
    "    condys.columns = anatable.index\n",
    "    return condys\n",
    "    #condyms = condys.mean(axis=1)\n",
    "    #return condyms\n"
   ]
  },
  {
   "cell_type": "code",
   "execution_count": 12,
   "metadata": {},
   "outputs": [
    {
     "name": "stdout",
     "output_type": "stream",
     "text": [
      "(1000, 31)\n"
     ]
    }
   ],
   "source": [
    "\n",
    "# compute the average of temperature in January 2018\n",
    "ytable = pandas.read_table(ano_file, sep = \" \", skipinitialspace = True)\n",
    "#print ytable.date >= 20180101 \n",
    "idx = [x >= 20180101 and x < 20190101 for x in ytable.date]\n",
    "tas_jan18 = ytable.iloc[idx, 1]\n",
    "tas_jan18 = tas_jan18.mean(axis=0)\n",
    "\n",
    "# generate other possible realisations of temperature for January 2018 conditionnaly to the atmospheric circulation \n",
    "nsim = 1000\n",
    "\n",
    "#for period P1\n",
    "ysim_p1 = analogs_generator(anafile = ana_p1_file, yfile = ano_file, nsim = nsim)\n",
    "ymean_p1 = ysim_p1.mean(axis = 1)\n",
    "print ysim_p1.shape\n",
    "\n",
    "#for period P2\n",
    "ysim_p2 = analogs_generator(anafile = ana_p2_file, yfile = ano_file, nsim = nsim)\n",
    "ymean_p2 = ysim_p2.mean(axis = 1)\n"
   ]
  },
  {
   "cell_type": "code",
   "execution_count": 17,
   "metadata": {},
   "outputs": [
    {
     "data": {
      "image/png": "[encoded data removed]",
      "text/plain": [
       "<matplotlib.figure.Figure at 0x7f3bde68ac10>"
      ]
     },
     "metadata": {},
     "output_type": "display_data"
    },
    {
     "data": {
      "image/png": "[encoded data removed]",
      "text/plain": [
       "<matplotlib.figure.Figure at 0x7f3bde643e90>"
      ]
     },
     "metadata": {},
     "output_type": "display_data"
    },
    {
     "name": "stdout",
     "output_type": "stream",
     "text": [
      "0.352\n",
      "0.355\n"
     ]
    }
   ],
   "source": [
    "%matplotlib inline\n",
    "import matplotlib.pyplot as plt\n",
    "\n",
    "plt.figure()\n",
    "plt.hist(ymean_p1, alpha=0.5, label='P1')\n",
    "plt.hist(ymean_p2, alpha=0.5, label='P2')\n",
    "plt.axvline(x=tas_jan18)\n",
    "plt.legend(loc='upper right')\n",
    "plt.show()\n",
    "\n",
    "\n",
    "plt.figure()\n",
    "plt.boxplot([ymean_p1, ymean_p2])\n",
    "plt.axhline(y=tas_jan18)\n",
    "plt.show()\n",
    "\n",
    "prob1 = (tas_jan18 >= ymean_p1)\n",
    "prob1 = prob1.mean(axis=0)\n",
    "\n",
    "prob2 = (tas_jan18 >= ymean_p2)\n",
    "prob2 = prob2.mean(axis=0)\n",
    "\n",
    "print prob1\n",
    "print prob2"
   ]
  },
  {
   "cell_type": "markdown",
   "metadata": {},
   "source": [
    "### Ex. 3 Implementing process into Birdhouse\n",
    "\n",
    "Implement a WPS process (let's call pythonanattribution) in blackswan to perform this analysis. One can use as exemple or template other blackswan processes.\n",
    "\n",
    "The process should take as inputs:\n",
    "- one file (yfile) containing the time series of the variable of interest y. The files should contain two columns, the first for the date (format yyyymmdd) and the second for the variable y\n",
    "- one file (anafile1) for the analogues found in a period P1\n",
    "- one file (anafile2) for the analogues found in a period P2\n",
    "\n",
    "The process should return:\n",
    "- one pdf (anna_plots.pdf)file with one graphic (histogram of boxplot) to compare the distributions of y conditionally to the circulation obtain in period 1 and 2\n",
    "- one text file anna_ysim.txt with the simulations of y generated with the analogues "
   ]
  },
  {
   "cell_type": "code",
   "execution_count": 14,
   "metadata": {},
   "outputs": [
    {
     "name": "stdout",
     "output_type": "stream",
     "text": [
      " identifier=nsim, title=numbers of simulated Y to generate with analogues, abstract=number of simulations, data type=integer\n",
      " Any value allowed\n",
      " Default Value: 20 \n",
      " minOccurs=0, maxOccurs=1\n",
      "\n",
      "\n",
      " identifier=yfile, title=file with date and value of Y, abstract=file with date and value of Y, data type=ComplexData\n",
      " Supported Value: mimeType=text/plain, encoding=None, schema=None\n",
      " Default Value: mimeType=text/plain, encoding=None, schema=None \n",
      " minOccurs=1, maxOccurs=1\n",
      "\n",
      "\n",
      " identifier=anafile1, title=Analogues result file for period P1, abstract=Analogues text file computed by Analogues of Circulation processes, data type=ComplexData\n",
      " Supported Value: mimeType=text/plain, encoding=None, schema=None\n",
      " Default Value: mimeType=text/plain, encoding=None, schema=None \n",
      " minOccurs=1, maxOccurs=1\n",
      "\n",
      "\n",
      " identifier=anafile2, title=Analogues result file for period P2, abstract=Analogues text file computed by Analogues of Circulation processes, data type=ComplexData\n",
      " Supported Value: mimeType=text/plain, encoding=None, schema=None\n",
      " Default Value: mimeType=text/plain, encoding=None, schema=None \n",
      " minOccurs=1, maxOccurs=1\n",
      "\n",
      "\n"
     ]
    }
   ],
   "source": [
    "##########################################\n",
    "# print some information about the process\n",
    "##########################################\n",
    "\n",
    "p = wps.describeprocess(identifier='pythonanattribution')\n",
    "for input in p.dataInputs:\n",
    "    printInputOutput(input)\n",
    "    print '\\n'"
   ]
  },
  {
   "cell_type": "code",
   "execution_count": 15,
   "metadata": {},
   "outputs": [
    {
     "name": "stdout",
     "output_type": "stream",
     "text": [
      "[('nsim', '1000'), ('anafile1', <owslib.wps.ComplexDataInput object at 0x7f3be2ca83d0>), ('anafile2', <owslib.wps.ComplexDataInput object at 0x7f3be2ca8610>), ('yfile', <owslib.wps.ComplexDataInput object at 0x7f3bf3a34550>)]\n",
      "True\n",
      "ProcessSucceeded\n",
      "http://localhost:8090/wpsoutputs/blackswan/fe55940a-25d0-11e8-b582-d89ef3118394/anna_plotsXsBL4z.pdf\n",
      "http://localhost:8090/wpsoutputs/blackswan/fe55940a-25d0-11e8-b582-d89ef3118394/anna_ysimg3zJdv.txt\n",
      "http://localhost:8090/wpsoutputs/blackswan/fe55940a-25d0-11e8-b582-d89ef3118394/log.txt\n"
     ]
    }
   ],
   "source": [
    "###########################################\n",
    "# and execute the process for attribution\n",
    "###########################################\n",
    "\n",
    "inputs=[('nsim', '1000'),\n",
    "        ('anafile1', ComplexDataInput(ana_p1_file)),\n",
    "        ('anafile2', ComplexDataInput(ana_p2_file)),\n",
    "        ('yfile', ComplexDataInput(ano_file))]\n",
    "print inputs\n",
    "\n",
    "anattr = wps.execute(identifier = \"pythonanattribution\", \n",
    "                     inputs = inputs,\n",
    "                     async=False)\n",
    "\n",
    "print anattr.isSucceded()\n",
    "\n",
    "print anattr.getStatus()\n",
    "for o in anattr.processOutputs:\n",
    "    print o.reference"
   ]
  },
  {
   "cell_type": "code",
   "execution_count": null,
   "metadata": {},
   "outputs": [],
   "source": []
  }
 ],
 "metadata": {
  "kernelspec": {
   "display_name": "Python 2",
   "language": "python",
   "name": "python2"
  },
  "language_info": {
   "codemirror_mode": {
    "name": "ipython",
    "version": 2
   },
   "file_extension": ".py",
   "mimetype": "text/x-python",
   "name": "python",
   "nbconvert_exporter": "python",
   "pygments_lexer": "ipython2",
   "version": "2.7.14"
  }
 },
 "nbformat": 4,
 "nbformat_minor": 1
}
